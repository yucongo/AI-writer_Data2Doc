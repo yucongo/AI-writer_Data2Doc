{
  "nbformat": 4,
  "nbformat_minor": 0,
  "metadata": {
    "colab": {
      "name": "bert-try.ipynb",
      "version": "0.3.2",
      "provenance": [],
      "private_outputs": true,
      "collapsed_sections": [],
      "include_colab_link": true
    },
    "kernelspec": {
      "name": "python3",
      "display_name": "Python 3"
    }
  },
  "cells": [
    {
      "cell_type": "markdown",
      "metadata": {
        "id": "view-in-github",
        "colab_type": "text"
      },
      "source": [
        "<a href=\"https://colab.research.google.com/github/yucongo/AI-writer_Data2Doc/blob/fix-attn/bert_try.ipynb\" target=\"_parent\"><img src=\"https://colab.research.google.com/assets/colab-badge.svg\" alt=\"Open In Colab\"/></a>"
      ]
    },
    {
      "cell_type": "code",
      "metadata": {
        "id": "pfChdF6mn8xd",
        "colab_type": "code",
        "colab": {}
      },
      "source": [
        "# https://blog.csdn.net/u014108004/article/details/84325301\n",
        "!apt update\n",
        "!apt install -y -qq software-properties-common \n",
        "## ! apt install python-software-properties \n",
        "! apt install module-init-tools\n",
        "!add-apt-repository -y ppa:alessandro-strada/ppa 2>&1 > /dev/null"
      ],
      "execution_count": 0,
      "outputs": []
    },
    {
      "cell_type": "code",
      "metadata": {
        "id": "EYrhyBIUoPZ9",
        "colab_type": "code",
        "colab": {}
      },
      "source": [
        "!ls\n",
        "!pwd\n",
        "# upload https://colab.research.google.com/notebooks/io.ipynb#scrollTo=vz-jH8T_Uk2c\n",
        "from google.colab import files\n",
        "\n",
        "'''\n",
        "uploaded = files.upload()\n",
        "\n",
        "for fn in uploaded.keys():\n",
        "  print('User uploaded file \"{name}\" with length {length} bytes'.format(\n",
        "      name=fn, length=len(uploaded[fn])))\n",
        "      \n",
        "# download \n",
        "files.download('example.txt')\n",
        " '''\n",
        "from google.colab import drive\n",
        "drive.mount('/content/gdrive')\n",
        "!ls gdrive"
      ],
      "execution_count": 0,
      "outputs": []
    },
    {
      "cell_type": "code",
      "metadata": {
        "id": "AHp-aCHSrwhH",
        "colab_type": "code",
        "colab": {}
      },
      "source": [
        "# !ls gdrive/My\\ Drive\n",
        "!pip install -U -q PyDrive\n",
        "from pydrive.auth import GoogleAuth\n",
        "from pydrive.drive import GoogleDrive\n",
        "from google.colab import auth\n",
        "from oauth2client.client import GoogleCredentials\n",
        "\n",
        "# 1. Authenticate and create the PyDrive client.\n",
        "auth.authenticate_user()\n",
        "gauth = GoogleAuth()\n",
        "gauth.credentials = GoogleCredentials.get_application_default()\n",
        "drive = GoogleDrive(gauth)\n",
        "\n",
        "# PyDrive reference:\n",
        "# https://gsuitedevs.github.io/PyDrive/docs/build/html/index.html\n",
        "\n",
        "# 2. Create & upload a file text file.\n",
        "uploaded = drive.CreateFile({'title': 'Sample upload.txt'})\n",
        "uploaded.SetContentString('Sample upload file content')\n",
        "uploaded.Upload()\n",
        "print('Uploaded file with ID {}'.format(uploaded.get('id')))\n",
        "\n",
        "# 3. Load a file by ID and print its contents.\n",
        "downloaded = drive.CreateFile({'id': uploaded.get('id')})\n",
        "print('Downloaded content \"{}\"'.format(downloaded.GetContentString()))"
      ],
      "execution_count": 0,
      "outputs": []
    },
    {
      "cell_type": "code",
      "metadata": {
        "id": "IaQL8i_9VBkE",
        "colab_type": "code",
        "colab": {}
      },
      "source": [
        "!ls gdrive/My\\ Drive/data"
      ],
      "execution_count": 0,
      "outputs": []
    }
  ]
}